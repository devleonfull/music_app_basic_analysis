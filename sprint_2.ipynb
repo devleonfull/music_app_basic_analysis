{
 "cells": [
  {
   "cell_type": "markdown",
   "metadata": {
    "id": "E0vqbgi9ay0H"
   },
   "source": [
    "# Music App"
   ]
  },
  {
   "cell_type": "markdown",
   "metadata": {
    "id": "VUC88oWjTJw2"
   },
   "source": [
    "## Introduction\n",
    "Through the analysis of real music streaming data, this project seeks to compare and contrast the musical preferences of residents in Springfield and Shelbyville, with the aim of validating hypothesis about user behavior in both cities.\n",
    "\n",
    "### Goal:\n",
    "Validate the folowwing hipotesys:\n",
    "1. User activity differs depending on the day of the week and the city.\n",
    "\n",
    "\n",
    "### Stages\n",
    "User behavior data is stored in the file `/data/music_project_en.csv`. As there is no information regarding data quality, we will examine it prior to hypothesis testing.\n"
   ]
  },
  {
   "cell_type": "markdown",
   "metadata": {
    "id": "hDt6pg-Rw-1U"
   },
   "source": [
    "[Volver a Contenidos](#back)"
   ]
  },
  {
   "cell_type": "markdown",
   "metadata": {
    "id": "Ml1hmfXC_Zcs"
   },
   "source": [
    "## Stage 1. Data description"
   ]
  },
  {
   "cell_type": "code",
   "execution_count": 2,
   "metadata": {
    "id": "AXN7PHPN_Zcs"
   },
   "outputs": [],
   "source": [
    "import pandas as pd"
   ]
  },
  {
   "cell_type": "code",
   "execution_count": 3,
   "metadata": {
    "id": "fFVu7vqh_Zct"
   },
   "outputs": [],
   "source": [
    "df = pd.read_csv('./data/music_project_en.csv')"
   ]
  },
  {
   "cell_type": "code",
   "execution_count": 4,
   "metadata": {
    "id": "oWTVX3gW_Zct"
   },
   "outputs": [
    {
     "data": {
      "text/html": [
       "<div>\n",
       "<style scoped>\n",
       "    .dataframe tbody tr th:only-of-type {\n",
       "        vertical-align: middle;\n",
       "    }\n",
       "\n",
       "    .dataframe tbody tr th {\n",
       "        vertical-align: top;\n",
       "    }\n",
       "\n",
       "    .dataframe thead th {\n",
       "        text-align: right;\n",
       "    }\n",
       "</style>\n",
       "<table border=\"1\" class=\"dataframe\">\n",
       "  <thead>\n",
       "    <tr style=\"text-align: right;\">\n",
       "      <th></th>\n",
       "      <th>userID</th>\n",
       "      <th>Track</th>\n",
       "      <th>artist</th>\n",
       "      <th>genre</th>\n",
       "      <th>City</th>\n",
       "      <th>time</th>\n",
       "      <th>Day</th>\n",
       "    </tr>\n",
       "  </thead>\n",
       "  <tbody>\n",
       "    <tr>\n",
       "      <th>0</th>\n",
       "      <td>FFB692EC</td>\n",
       "      <td>Kamigata To Boots</td>\n",
       "      <td>The Mass Missile</td>\n",
       "      <td>rock</td>\n",
       "      <td>Shelbyville</td>\n",
       "      <td>20:28:33</td>\n",
       "      <td>Wednesday</td>\n",
       "    </tr>\n",
       "    <tr>\n",
       "      <th>1</th>\n",
       "      <td>55204538</td>\n",
       "      <td>Delayed Because of Accident</td>\n",
       "      <td>Andreas Rönnberg</td>\n",
       "      <td>rock</td>\n",
       "      <td>Springfield</td>\n",
       "      <td>14:07:09</td>\n",
       "      <td>Friday</td>\n",
       "    </tr>\n",
       "    <tr>\n",
       "      <th>2</th>\n",
       "      <td>20EC38</td>\n",
       "      <td>Funiculì funiculà</td>\n",
       "      <td>Mario Lanza</td>\n",
       "      <td>pop</td>\n",
       "      <td>Shelbyville</td>\n",
       "      <td>20:58:07</td>\n",
       "      <td>Wednesday</td>\n",
       "    </tr>\n",
       "    <tr>\n",
       "      <th>3</th>\n",
       "      <td>A3DD03C9</td>\n",
       "      <td>Dragons in the Sunset</td>\n",
       "      <td>Fire + Ice</td>\n",
       "      <td>folk</td>\n",
       "      <td>Shelbyville</td>\n",
       "      <td>08:37:09</td>\n",
       "      <td>Monday</td>\n",
       "    </tr>\n",
       "    <tr>\n",
       "      <th>4</th>\n",
       "      <td>E2DC1FAE</td>\n",
       "      <td>Soul People</td>\n",
       "      <td>Space Echo</td>\n",
       "      <td>dance</td>\n",
       "      <td>Springfield</td>\n",
       "      <td>08:34:34</td>\n",
       "      <td>Monday</td>\n",
       "    </tr>\n",
       "    <tr>\n",
       "      <th>5</th>\n",
       "      <td>842029A1</td>\n",
       "      <td>Chains</td>\n",
       "      <td>Obladaet</td>\n",
       "      <td>rusrap</td>\n",
       "      <td>Shelbyville</td>\n",
       "      <td>13:09:41</td>\n",
       "      <td>Friday</td>\n",
       "    </tr>\n",
       "    <tr>\n",
       "      <th>6</th>\n",
       "      <td>4CB90AA5</td>\n",
       "      <td>True</td>\n",
       "      <td>Roman Messer</td>\n",
       "      <td>dance</td>\n",
       "      <td>Springfield</td>\n",
       "      <td>13:00:07</td>\n",
       "      <td>Wednesday</td>\n",
       "    </tr>\n",
       "    <tr>\n",
       "      <th>7</th>\n",
       "      <td>F03E1C1F</td>\n",
       "      <td>Feeling This Way</td>\n",
       "      <td>Polina Griffith</td>\n",
       "      <td>dance</td>\n",
       "      <td>Springfield</td>\n",
       "      <td>20:47:49</td>\n",
       "      <td>Wednesday</td>\n",
       "    </tr>\n",
       "    <tr>\n",
       "      <th>8</th>\n",
       "      <td>8FA1D3BE</td>\n",
       "      <td>L’estate</td>\n",
       "      <td>Julia Dalia</td>\n",
       "      <td>ruspop</td>\n",
       "      <td>Springfield</td>\n",
       "      <td>09:17:40</td>\n",
       "      <td>Friday</td>\n",
       "    </tr>\n",
       "    <tr>\n",
       "      <th>9</th>\n",
       "      <td>E772D5C0</td>\n",
       "      <td>Pessimist</td>\n",
       "      <td>NaN</td>\n",
       "      <td>dance</td>\n",
       "      <td>Shelbyville</td>\n",
       "      <td>21:20:49</td>\n",
       "      <td>Wednesday</td>\n",
       "    </tr>\n",
       "  </tbody>\n",
       "</table>\n",
       "</div>"
      ],
      "text/plain": [
       "     userID                        Track            artist   genre  \\\n",
       "0  FFB692EC            Kamigata To Boots  The Mass Missile    rock   \n",
       "1  55204538  Delayed Because of Accident  Andreas Rönnberg    rock   \n",
       "2    20EC38            Funiculì funiculà       Mario Lanza     pop   \n",
       "3  A3DD03C9        Dragons in the Sunset        Fire + Ice    folk   \n",
       "4  E2DC1FAE                  Soul People        Space Echo   dance   \n",
       "5  842029A1                       Chains          Obladaet  rusrap   \n",
       "6  4CB90AA5                         True      Roman Messer   dance   \n",
       "7  F03E1C1F             Feeling This Way   Polina Griffith   dance   \n",
       "8  8FA1D3BE                     L’estate       Julia Dalia  ruspop   \n",
       "9  E772D5C0                    Pessimist               NaN   dance   \n",
       "\n",
       "        City        time        Day  \n",
       "0  Shelbyville  20:28:33  Wednesday  \n",
       "1  Springfield  14:07:09     Friday  \n",
       "2  Shelbyville  20:58:07  Wednesday  \n",
       "3  Shelbyville  08:37:09     Monday  \n",
       "4  Springfield  08:34:34     Monday  \n",
       "5  Shelbyville  13:09:41     Friday  \n",
       "6  Springfield  13:00:07  Wednesday  \n",
       "7  Springfield  20:47:49  Wednesday  \n",
       "8  Springfield  09:17:40     Friday  \n",
       "9  Shelbyville  21:20:49  Wednesday  "
      ]
     },
     "execution_count": 4,
     "metadata": {},
     "output_type": "execute_result"
    }
   ],
   "source": [
    "df.head(10)"
   ]
  },
  {
   "cell_type": "code",
   "execution_count": 5,
   "metadata": {
    "id": "DSf2kIb-_Zct"
   },
   "outputs": [
    {
     "name": "stdout",
     "output_type": "stream",
     "text": [
      "<class 'pandas.core.frame.DataFrame'>\n",
      "RangeIndex: 65079 entries, 0 to 65078\n",
      "Data columns (total 7 columns):\n",
      " #   Column    Non-Null Count  Dtype \n",
      "---  ------    --------------  ----- \n",
      " 0     userID  65079 non-null  object\n",
      " 1   Track     63736 non-null  object\n",
      " 2   artist    57512 non-null  object\n",
      " 3   genre     63881 non-null  object\n",
      " 4     City    65079 non-null  object\n",
      " 5   time      65079 non-null  object\n",
      " 6   Day       65079 non-null  object\n",
      "dtypes: object(7)\n",
      "memory usage: 3.5+ MB\n"
     ]
    }
   ],
   "source": [
    "df.info()"
   ]
  },
  {
   "cell_type": "markdown",
   "metadata": {
    "id": "TaQ2Iwbr_Zct"
   },
   "source": [
    "The table has seven columns, all of type object."
   ]
  },
  {
   "cell_type": "code",
   "execution_count": 6,
   "metadata": {},
   "outputs": [
    {
     "data": {
      "text/plain": [
       "  userID       0\n",
       "Track       1343\n",
       "artist      7567\n",
       "genre       1198\n",
       "  City         0\n",
       "time           0\n",
       "Day            0\n",
       "dtype: int64"
      ]
     },
     "execution_count": 6,
     "metadata": {},
     "output_type": "execute_result"
    }
   ],
   "source": [
    "df.isna().sum()"
   ]
  },
  {
   "cell_type": "code",
   "execution_count": 7,
   "metadata": {},
   "outputs": [
    {
     "data": {
      "text/plain": [
       "3826"
      ]
     },
     "execution_count": 7,
     "metadata": {},
     "output_type": "execute_result"
    }
   ],
   "source": [
    "df.duplicated().sum()"
   ]
  },
  {
   "cell_type": "markdown",
   "metadata": {
    "id": "MCB6-dXG_Zct"
   },
   "source": [
    "### Data review conclusions: <a id='data_review_conclusions'></a>\n",
    "\n",
    "- Each row represents a song played by a user of a music streaming app. The records may include information about the user's temporal and geographic location when the song was played, as well as additional information about the song itself\n",
    "\n",
    "- The hypothesis could be validated with the provided dataset. By having information from only two cities, we will verify the validity of the hypothesis only for those cities. If we want to extend the hypothesis to be more general, more cities could be included. In this way, if the hypothesis that musical tastes depend on different cities is validated, we could have a higher degree of certainty.\n",
    "\n",
    "- A preliminary analysis of the data suggests that preprocessing is necessary to handle null values, duplicate records, and inconsistent data types across columns."
   ]
  },
  {
   "cell_type": "markdown",
   "metadata": {
    "id": "SjYF6Ub9_Zct"
   },
   "source": [
    "## Stage 2. Data preprocessing <a id='data_preprocessing'></a>\n"
   ]
  },
  {
   "cell_type": "markdown",
   "metadata": {
    "id": "dIaKXr29_Zct"
   },
   "source": [
    "### Header style <a id='header_style'></a>\n"
   ]
  },
  {
   "cell_type": "code",
   "execution_count": 8,
   "metadata": {
    "id": "oKOTdF_Q_Zct"
   },
   "outputs": [
    {
     "data": {
      "text/plain": [
       "Index(['  userID', 'Track', 'artist', 'genre', '  City  ', 'time', 'Day'], dtype='object')"
      ]
     },
     "execution_count": 8,
     "metadata": {},
     "output_type": "execute_result"
    }
   ],
   "source": [
    "df.columns"
   ]
  },
  {
   "cell_type": "code",
   "execution_count": 9,
   "metadata": {
    "id": "6I_RwwMhzM4e"
   },
   "outputs": [
    {
     "name": "stdout",
     "output_type": "stream",
     "text": [
      "Index(['userid', 'track', 'artist', 'genre', 'city', 'time', 'day'], dtype='object')\n"
     ]
    }
   ],
   "source": [
    "# The following code is an alternative to the suggested solution, it implements a function called\n",
    "# 'column_name_formater' which is used as argument to the parameter 'column' in the 'rename' method\n",
    "\n",
    "# def column_name_formater(column_name):\n",
    "#    return column_name.strip().replace(' ', '_').lower()\n",
    "\n",
    "# df = df.rename(columns=column_name_formater)\n",
    "\n",
    "# It is also possible to use the anonymous function version using lambda syntax\n",
    "#lambda x: x.strip().replace(' ','_').lower() \n",
    "\n",
    "# There are two different options to rename the column names using the for iterator:\n",
    "# The first option uses the dict type\n",
    "\n",
    "# fixed_column_names = {}\n",
    "# for column_name in df.columns:\n",
    "#     fixed_column_names[column_name] = column_name.strip().replace(' ','_').lower()\n",
    "\n",
    "# print(fixed_column_names)\n",
    "# df = df.rename(columns=fixed_column_names)\n",
    "\n",
    "# The second alternative is using a list to redeclare the 'columns' attribute of the given DataFrame\n",
    "fixed_column_names = []\n",
    "for column_name in df.columns:\n",
    "    fixed_column_names.append(column_name.strip().replace(' ', '_').lower())\n",
    "\n",
    "df.columns = fixed_column_names\n",
    "\n",
    "print(df.columns)"
   ]
  },
  {
   "cell_type": "code",
   "execution_count": 11,
   "metadata": {
    "id": "ISlFqs5y_Zct"
   },
   "outputs": [],
   "source": [
    "df = df.rename(columns={'userid':'user_id'})"
   ]
  },
  {
   "cell_type": "code",
   "execution_count": 12,
   "metadata": {
    "id": "d4NOAmTW_Zct"
   },
   "outputs": [
    {
     "name": "stdout",
     "output_type": "stream",
     "text": [
      "Index(['user_id', 'track', 'artist', 'genre', 'city', 'time', 'day'], dtype='object')\n"
     ]
    }
   ],
   "source": [
    "print(df.columns)"
   ]
  },
  {
   "cell_type": "markdown",
   "metadata": {
    "id": "5ISfbcfY_Zct"
   },
   "source": [
    "### Missing values <a id='missing_values'></a>\n",
    " "
   ]
  },
  {
   "cell_type": "code",
   "execution_count": 13,
   "metadata": {
    "id": "RskX29qr_Zct"
   },
   "outputs": [
    {
     "data": {
      "text/plain": [
       "user_id       0\n",
       "track      1343\n",
       "artist     7567\n",
       "genre      1198\n",
       "city          0\n",
       "time          0\n",
       "day           0\n",
       "dtype: int64"
      ]
     },
     "execution_count": 13,
     "metadata": {},
     "output_type": "execute_result"
    }
   ],
   "source": [
    "# Calcular el número de valores ausentes\n",
    "df.isna().sum()"
   ]
  },
  {
   "cell_type": "markdown",
   "metadata": {
    "id": "fSv2laPA_Zct"
   },
   "source": [
    "Let's address missing values"
   ]
  },
  {
   "cell_type": "code",
   "execution_count": 32,
   "metadata": {
    "id": "KplB5qWs_Zct"
   },
   "outputs": [],
   "source": [
    "column_names = ['track', 'artist', 'genre']\n",
    "for column_name in column_names:\n",
    "    df[column_name] = df[column_name].fillna('unknown')"
   ]
  },
  {
   "cell_type": "code",
   "execution_count": 15,
   "metadata": {
    "id": "Tq4nYRX4_Zct"
   },
   "outputs": [
    {
     "data": {
      "text/plain": [
       "user_id    0\n",
       "track      0\n",
       "artist     0\n",
       "genre      0\n",
       "city       0\n",
       "time       0\n",
       "day        0\n",
       "dtype: int64"
      ]
     },
     "execution_count": 15,
     "metadata": {},
     "output_type": "execute_result"
    }
   ],
   "source": [
    "df.isna().sum()"
   ]
  },
  {
   "cell_type": "markdown",
   "metadata": {
    "id": "BWKRtBJ3_Zct"
   },
   "source": [
    "### Duplicates <a id='duplicates'></a>"
   ]
  },
  {
   "cell_type": "code",
   "execution_count": 16,
   "metadata": {
    "id": "36eES_S0_Zct"
   },
   "outputs": [
    {
     "data": {
      "text/plain": [
       "3826"
      ]
     },
     "execution_count": 16,
     "metadata": {},
     "output_type": "execute_result"
    }
   ],
   "source": [
    "df.duplicated().sum()"
   ]
  },
  {
   "cell_type": "code",
   "execution_count": 17,
   "metadata": {
    "id": "exFHq6tt_Zct"
   },
   "outputs": [],
   "source": [
    "df = df.drop_duplicates()"
   ]
  },
  {
   "cell_type": "code",
   "execution_count": 18,
   "metadata": {
    "id": "-8PuNWQ0_Zct"
   },
   "outputs": [
    {
     "data": {
      "text/plain": [
       "0"
      ]
     },
     "execution_count": 18,
     "metadata": {},
     "output_type": "execute_result"
    }
   ],
   "source": [
    "df.duplicated().sum()\n"
   ]
  },
  {
   "cell_type": "markdown",
   "metadata": {
    "id": "QlFBsxAr_Zct"
   },
   "source": [
    "Due to the range of values in `genre` column we are more likely to find duplicates. Let's address them"
   ]
  },
  {
   "cell_type": "code",
   "execution_count": 19,
   "metadata": {
    "id": "JIUcqzZN_Zct",
    "scrolled": false
   },
   "outputs": [
    {
     "name": "stdout",
     "output_type": "stream",
     "text": [
      "{'rock': ['postrock', 'rusrock', 'folkrock', 'stonerrock', 'deutschrock', 'rockabilly'], 'pop': ['ruspop', 'jpop', 'k-pop', 'electropop', 'dancepop', 'cantopop', 'popeurodance', 'popelectronic', 'synthpop', 'indipop', 'mandopop'], 'folk': ['folkmetal', 'folkrock', 'eurofolk', 'folklore', 'folktronica'], 'dance': ['dancehall', 'dancepop', 'popeurodance'], 'world': ['worldbeat'], 'electronic': ['loungeelectronic', 'popelectronic'], 'hip': ['hiphop', 'hip-hop'], 'jazz': ['conjazz', 'nujazz', 'tradjazz'], 'latin': ['latino'], 'metal': ['progmetal', 'folkmetal', 'numetal', 'classicmetal', 'extrememetal', 'metalcore', 'epicmetal'], 'reggae': ['reggaeton'], 'türk': ['türkçe'], 'post': ['postrock', 'posthardcore'], 'techno': ['hardtechno'], 'rap': ['rusrap'], 'new': ['newage', 'newwave'], 'soul': ['soulful'], 'hardcore': ['posthardcore'], 'tango': ['argentinetango'], 'nu': ['nujazz', 'numetal'], 'dub': ['dubstep'], 'tech': ['techno', 'hardtechno'], 'top': ['cantopop'], 'sound': ['soundtrack'], 'trip': ['triphop'], 'hop': ['triphop', 'hiphop', 'hip-hop'], 'lounge': ['loungeelectronic'], 'vi': ['videogame'], 'native': ['alternative']}\n",
      "acid\n",
      "['acid']\n",
      "acoustic\n",
      "['acoustic']\n",
      "action\n",
      "['action']\n",
      "adult\n",
      "['adult']\n",
      "africa\n",
      "['africa']\n",
      "afrikaans\n",
      "['afrikaans']\n",
      "alternative\n",
      "['alternative']\n",
      "ambient\n",
      "['ambient']\n",
      "americana\n",
      "['americana']\n",
      "animated\n",
      "['animated']\n",
      "anime\n",
      "['anime']\n",
      "arabesk\n",
      "['arabesk']\n",
      "arabic\n",
      "['arabic']\n",
      "arena\n",
      "['arena']\n",
      "argentinetango\n",
      "['argentinetango']\n",
      "art\n",
      "['art']\n",
      "audiobook\n",
      "['audiobook']\n",
      "avantgarde\n",
      "['avantgarde']\n",
      "axé\n",
      "['axé']\n",
      "baile\n",
      "['baile']\n",
      "balkan\n",
      "['balkan']\n",
      "beats\n",
      "['beats']\n",
      "bigroom\n",
      "['bigroom']\n",
      "black\n",
      "['black']\n",
      "bluegrass\n",
      "['bluegrass']\n",
      "blues\n",
      "['blues']\n",
      "bollywood\n",
      "['bollywood']\n",
      "bossa\n",
      "['bossa']\n",
      "brazilian\n",
      "['brazilian']\n",
      "breakbeat\n",
      "['breakbeat']\n",
      "breaks\n",
      "['breaks']\n",
      "broadway\n",
      "['broadway']\n",
      "cantautori\n",
      "['cantautori']\n",
      "cantopop\n",
      "['cantopop']\n",
      "canzone\n",
      "['canzone']\n",
      "caribbean\n",
      "['caribbean']\n",
      "caucasian\n",
      "['caucasian']\n",
      "celtic\n",
      "['celtic']\n",
      "chamber\n",
      "['chamber']\n",
      "children\n",
      "['children']\n",
      "chill\n",
      "['chill']\n",
      "chinese\n",
      "['chinese']\n",
      "choral\n",
      "['choral']\n",
      "christian\n",
      "['christian']\n",
      "christmas\n",
      "['christmas']\n",
      "classical\n",
      "['classical']\n",
      "classicmetal\n",
      "['classicmetal']\n",
      "club\n",
      "['club']\n",
      "colombian\n",
      "['colombian']\n",
      "comedy\n",
      "['comedy']\n",
      "conjazz\n",
      "['conjazz']\n",
      "contemporary\n",
      "['contemporary']\n",
      "country\n",
      "['country']\n",
      "cuban\n",
      "['cuban']\n",
      "dance\n",
      "['dance' 'dancehall' 'dancepop' 'popeurodance']\n",
      "dancehall\n",
      "['dancehall']\n",
      "dancepop\n",
      "['dancepop']\n",
      "dark\n",
      "['dark']\n",
      "death\n",
      "['death']\n",
      "deep\n",
      "['deep']\n",
      "deutschrock\n",
      "['deutschrock']\n",
      "deutschspr\n",
      "['deutschspr']\n",
      "dirty\n",
      "['dirty']\n",
      "disco\n",
      "['disco']\n",
      "dnb\n",
      "['dnb']\n",
      "documentary\n",
      "['documentary']\n",
      "downbeat\n",
      "['downbeat']\n",
      "downtempo\n",
      "['downtempo']\n",
      "drum\n",
      "['drum']\n",
      "dub\n",
      "['dubstep' 'dub']\n",
      "dubstep\n",
      "['dubstep']\n",
      "eastern\n",
      "['eastern']\n",
      "easy\n",
      "['easy']\n",
      "electronic\n",
      "['electronic' 'loungeelectronic' 'popelectronic']\n",
      "electropop\n",
      "['electropop']\n",
      "emo\n",
      "['emo']\n",
      "entehno\n",
      "['entehno']\n",
      "epicmetal\n",
      "['epicmetal']\n",
      "estrada\n",
      "['estrada']\n",
      "ethnic\n",
      "['ethnic']\n",
      "eurofolk\n",
      "['eurofolk']\n",
      "european\n",
      "['european']\n",
      "experimental\n",
      "['experimental']\n",
      "extrememetal\n",
      "['extrememetal']\n",
      "fado\n",
      "['fado']\n",
      "film\n",
      "['film']\n",
      "fitness\n",
      "['fitness']\n",
      "flamenco\n",
      "['flamenco']\n",
      "folk\n",
      "['folk' 'folkmetal' 'folkrock' 'eurofolk' 'folklore' 'folktronica']\n",
      "folklore\n",
      "['folklore']\n",
      "folkmetal\n",
      "['folkmetal']\n",
      "folkrock\n",
      "['folkrock']\n",
      "folktronica\n",
      "['folktronica']\n",
      "forró\n",
      "['forró']\n",
      "frankreich\n",
      "['frankreich']\n",
      "französisch\n",
      "['französisch']\n",
      "french\n",
      "['french']\n",
      "funk\n",
      "['funk']\n",
      "future\n",
      "['future']\n",
      "gangsta\n",
      "['gangsta']\n",
      "garage\n",
      "['garage']\n",
      "german\n",
      "['german']\n",
      "ghazal\n",
      "['ghazal']\n",
      "gitarre\n",
      "['gitarre']\n",
      "glitch\n",
      "['glitch']\n",
      "gospel\n",
      "['gospel']\n",
      "gothic\n",
      "['gothic']\n",
      "grime\n",
      "['grime']\n",
      "grunge\n",
      "['grunge']\n",
      "gypsy\n",
      "['gypsy']\n",
      "handsup\n",
      "['handsup']\n",
      "hard'n'heavy\n",
      "[\"hard'n'heavy\"]\n",
      "hardcore\n",
      "['posthardcore' 'hardcore']\n",
      "hardstyle\n",
      "['hardstyle']\n",
      "hardtechno\n",
      "['hardtechno']\n",
      "hip\n",
      "['hip' 'hiphop' 'hip-hop']\n",
      "hip-hop\n",
      "['hip-hop']\n",
      "hiphop\n",
      "['hiphop']\n",
      "historisch\n",
      "['historisch']\n",
      "holiday\n",
      "['holiday']\n",
      "hop\n",
      "['triphop' 'hiphop' 'hip-hop' 'hop']\n",
      "horror\n",
      "['horror']\n",
      "house\n",
      "['house']\n",
      "idm\n",
      "['idm']\n",
      "independent\n",
      "['independent']\n",
      "indian\n",
      "['indian']\n",
      "indie\n",
      "['indie']\n",
      "indipop\n",
      "['indipop']\n",
      "industrial\n",
      "['industrial']\n",
      "inspirational\n",
      "['inspirational']\n",
      "instrumental\n",
      "['instrumental']\n",
      "international\n",
      "['international']\n",
      "irish\n",
      "['irish']\n",
      "jam\n",
      "['jam']\n",
      "japanese\n",
      "['japanese']\n",
      "jazz\n",
      "['jazz' 'conjazz' 'nujazz' 'tradjazz']\n",
      "jewish\n",
      "['jewish']\n",
      "jpop\n",
      "['jpop']\n",
      "jungle\n",
      "['jungle']\n",
      "k-pop\n",
      "['k-pop']\n",
      "karadeniz\n",
      "['karadeniz']\n",
      "karaoke\n",
      "['karaoke']\n",
      "kayokyoku\n",
      "['kayokyoku']\n",
      "korean\n",
      "['korean']\n",
      "laiko\n",
      "['laiko']\n",
      "latin\n",
      "['latin' 'latino']\n",
      "latino\n",
      "['latino']\n",
      "leftfield\n",
      "['leftfield']\n",
      "local\n",
      "['local']\n",
      "lounge\n",
      "['loungeelectronic' 'lounge']\n",
      "loungeelectronic\n",
      "['loungeelectronic']\n",
      "lovers\n",
      "['lovers']\n",
      "malaysian\n",
      "['malaysian']\n",
      "mandopop\n",
      "['mandopop']\n",
      "marschmusik\n",
      "['marschmusik']\n",
      "meditative\n",
      "['meditative']\n",
      "mediterranean\n",
      "['mediterranean']\n",
      "melodic\n",
      "['melodic']\n",
      "metal\n",
      "['metal' 'progmetal' 'folkmetal' 'numetal' 'classicmetal' 'extrememetal'\n",
      " 'metalcore' 'epicmetal']\n",
      "metalcore\n",
      "['metalcore']\n",
      "mexican\n",
      "['mexican']\n",
      "middle\n",
      "['middle']\n",
      "minimal\n",
      "['minimal']\n",
      "miscellaneous\n",
      "['miscellaneous']\n",
      "modern\n",
      "['modern']\n",
      "mood\n",
      "['mood']\n",
      "mpb\n",
      "['mpb']\n",
      "muslim\n",
      "['muslim']\n",
      "native\n",
      "['alternative' 'native']\n",
      "neoklassik\n",
      "['neoklassik']\n",
      "neue\n",
      "['neue']\n",
      "new\n",
      "['new' 'newage' 'newwave']\n",
      "newage\n",
      "['newage']\n",
      "newwave\n",
      "['newwave']\n",
      "nu\n",
      "['nujazz' 'numetal' 'nu']\n",
      "nujazz\n",
      "['nujazz']\n",
      "numetal\n",
      "['numetal']\n",
      "oceania\n",
      "['oceania']\n",
      "old\n",
      "['old']\n",
      "opera\n",
      "['opera']\n",
      "orchestral\n",
      "['orchestral']\n",
      "other\n",
      "['other']\n",
      "piano\n",
      "['piano']\n",
      "pop\n",
      "['pop' 'ruspop' 'jpop' 'k-pop' 'electropop' 'dancepop' 'cantopop'\n",
      " 'popeurodance' 'popelectronic' 'synthpop' 'indipop' 'mandopop']\n",
      "popelectronic\n",
      "['popelectronic']\n",
      "popeurodance\n",
      "['popeurodance']\n",
      "post\n",
      "['postrock' 'post' 'posthardcore']\n",
      "posthardcore\n",
      "['posthardcore']\n",
      "postrock\n",
      "['postrock']\n",
      "power\n",
      "['power']\n",
      "progmetal\n",
      "['progmetal']\n",
      "progressive\n",
      "['progressive']\n",
      "psychedelic\n",
      "['psychedelic']\n",
      "punjabi\n",
      "['punjabi']\n",
      "punk\n",
      "['punk']\n",
      "quebecois\n",
      "['quebecois']\n",
      "ragga\n",
      "['ragga']\n",
      "ram\n",
      "['ram']\n",
      "rancheras\n",
      "['rancheras']\n",
      "rap\n",
      "['rusrap' 'rap']\n",
      "rave\n",
      "['rave']\n",
      "reggae\n",
      "['reggae' 'reggaeton']\n",
      "reggaeton\n",
      "['reggaeton']\n",
      "regional\n",
      "['regional']\n",
      "relax\n",
      "['relax']\n",
      "religious\n",
      "['religious']\n",
      "retro\n",
      "['retro']\n",
      "rhythm\n",
      "['rhythm']\n",
      "rnb\n",
      "['rnb']\n",
      "rnr\n",
      "['rnr']\n",
      "rock\n",
      "['rock' 'postrock' 'rusrock' 'folkrock' 'stonerrock' 'deutschrock'\n",
      " 'rockabilly']\n",
      "rockabilly\n",
      "['rockabilly']\n",
      "romance\n",
      "['romance']\n",
      "roots\n",
      "['roots']\n",
      "ruspop\n",
      "['ruspop']\n",
      "rusrap\n",
      "['rusrap']\n",
      "rusrock\n",
      "['rusrock']\n",
      "salsa\n",
      "['salsa']\n",
      "samba\n",
      "['samba']\n",
      "schlager\n",
      "['schlager']\n",
      "self\n",
      "['self']\n",
      "sertanejo\n",
      "['sertanejo']\n",
      "shoegazing\n",
      "['shoegazing']\n",
      "showtunes\n",
      "['showtunes']\n",
      "singer\n",
      "['singer']\n",
      "ska\n",
      "['ska']\n",
      "slow\n",
      "['slow']\n",
      "smooth\n",
      "['smooth']\n",
      "soul\n",
      "['soul' 'soulful']\n",
      "soulful\n",
      "['soulful']\n",
      "sound\n",
      "['soundtrack' 'sound']\n",
      "soundtrack\n",
      "['soundtrack']\n",
      "southern\n",
      "['southern']\n",
      "specialty\n",
      "['specialty']\n",
      "speech\n",
      "['speech']\n",
      "spiritual\n",
      "['spiritual']\n",
      "sport\n",
      "['sport']\n",
      "stonerrock\n",
      "['stonerrock']\n",
      "surf\n",
      "['surf']\n",
      "swing\n",
      "['swing']\n",
      "synthpop\n",
      "['synthpop']\n",
      "sängerportrait\n",
      "['sängerportrait']\n",
      "tango\n",
      "['tango' 'argentinetango']\n",
      "tanzorchester\n",
      "['tanzorchester']\n",
      "taraftar\n",
      "['taraftar']\n",
      "tech\n",
      "['techno' 'tech' 'hardtechno']\n",
      "techno\n",
      "['techno' 'hardtechno']\n",
      "thrash\n",
      "['thrash']\n",
      "top\n",
      "['top' 'cantopop']\n",
      "traditional\n",
      "['traditional']\n",
      "tradjazz\n",
      "['tradjazz']\n",
      "trance\n",
      "['trance']\n",
      "tribal\n",
      "['tribal']\n",
      "trip\n",
      "['triphop' 'trip']\n",
      "triphop\n",
      "['triphop']\n",
      "tropical\n",
      "['tropical']\n",
      "türk\n",
      "['türk' 'türkçe']\n",
      "türkçe\n",
      "['türkçe']\n",
      "unknown\n",
      "['unknown']\n",
      "urban\n",
      "['urban']\n",
      "uzbek\n",
      "['uzbek']\n",
      "variété\n",
      "['variété']\n",
      "vi\n",
      "['videogame' 'vi']\n",
      "videogame\n",
      "['videogame']\n",
      "vocal\n",
      "['vocal']\n",
      "western\n",
      "['western']\n",
      "world\n",
      "['world' 'worldbeat']\n",
      "worldbeat\n",
      "['worldbeat']\n",
      "ïîï\n",
      "['ïîï']\n"
     ]
    }
   ],
   "source": [
    "# The following code includes 2 different ways to search for similar genres.\n",
    "\n",
    "#First approch\n",
    "similar_values = {}\n",
    "for term in df['genre'].unique():\n",
    "    for genre in df['genre'].unique():\n",
    "        if genre.__contains__(term) and term != genre: \n",
    "            if similar_values.get(term) == None:\n",
    "                similar_values[term] = [genre]\n",
    "            else:\n",
    "                similar_values[term].append(genre)\n",
    "print(similar_values)\n",
    " \n",
    "# Second approch\n",
    "for genre in df['genre'].sort_values().unique():\n",
    "    print(genre)\n",
    "    print(df.loc[df['genre'].str.contains(genre), 'genre'].unique())\n",
    "                "
   ]
  },
  {
   "cell_type": "code",
   "execution_count": 20,
   "metadata": {
    "id": "ErNDkmns_Zct"
   },
   "outputs": [],
   "source": [
    "wrong_genres = ['hip', 'hip-hop', 'hip hop']\n",
    "correct_genre = 'hiphop'\n",
    "\n",
    "# The replace_wrong_genres function replaces every item in a given list of wrong genres for the right\n",
    "# genre.\n",
    "# The function overwrites the DataFrame directly but an alternative is to return\n",
    "# a copy of the DataFrame using the .copy() method. \n",
    "\n",
    "def replace_wrong_genres(wrong_genres: list, correct_genre:str, column_name:str='genre')->None:\n",
    "    for genre in wrong_genres:\n",
    "        df[column_name] = df[column_name].replace(genre, correct_genre)"
   ]
  },
  {
   "cell_type": "code",
   "execution_count": 21,
   "metadata": {
    "id": "YN5i2hpmSo09"
   },
   "outputs": [],
   "source": [
    "replace_wrong_genres(wrong_genres, correct_genre)"
   ]
  },
  {
   "cell_type": "code",
   "execution_count": 22,
   "metadata": {
    "id": "wvixALnFG15m"
   },
   "outputs": [
    {
     "name": "stdout",
     "output_type": "stream",
     "text": [
      "['acid' 'acoustic' 'action' 'adult' 'africa' 'afrikaans' 'alternative'\n",
      " 'ambient' 'americana' 'animated' 'anime' 'arabesk' 'arabic' 'arena'\n",
      " 'argentinetango' 'art' 'audiobook' 'avantgarde' 'axé' 'baile' 'balkan'\n",
      " 'beats' 'bigroom' 'black' 'bluegrass' 'blues' 'bollywood' 'bossa'\n",
      " 'brazilian' 'breakbeat' 'breaks' 'broadway' 'cantautori' 'cantopop'\n",
      " 'canzone' 'caribbean' 'caucasian' 'celtic' 'chamber' 'children' 'chill'\n",
      " 'chinese' 'choral' 'christian' 'christmas' 'classical' 'classicmetal'\n",
      " 'club' 'colombian' 'comedy' 'conjazz' 'contemporary' 'country' 'cuban'\n",
      " 'dance' 'dancehall' 'dancepop' 'dark' 'death' 'deep' 'deutschrock'\n",
      " 'deutschspr' 'dirty' 'disco' 'dnb' 'documentary' 'downbeat' 'downtempo'\n",
      " 'drum' 'dub' 'dubstep' 'eastern' 'easy' 'electronic' 'electropop' 'emo'\n",
      " 'entehno' 'epicmetal' 'estrada' 'ethnic' 'eurofolk' 'european'\n",
      " 'experimental' 'extrememetal' 'fado' 'film' 'fitness' 'flamenco' 'folk'\n",
      " 'folklore' 'folkmetal' 'folkrock' 'folktronica' 'forró' 'frankreich'\n",
      " 'französisch' 'french' 'funk' 'future' 'gangsta' 'garage' 'german'\n",
      " 'ghazal' 'gitarre' 'glitch' 'gospel' 'gothic' 'grime' 'grunge' 'gypsy'\n",
      " 'handsup' \"hard'n'heavy\" 'hardcore' 'hardstyle' 'hardtechno' 'hiphop'\n",
      " 'historisch' 'holiday' 'hop' 'horror' 'house' 'idm' 'independent'\n",
      " 'indian' 'indie' 'indipop' 'industrial' 'inspirational' 'instrumental'\n",
      " 'international' 'irish' 'jam' 'japanese' 'jazz' 'jewish' 'jpop' 'jungle'\n",
      " 'k-pop' 'karadeniz' 'karaoke' 'kayokyoku' 'korean' 'laiko' 'latin'\n",
      " 'latino' 'leftfield' 'local' 'lounge' 'loungeelectronic' 'lovers'\n",
      " 'malaysian' 'mandopop' 'marschmusik' 'meditative' 'mediterranean'\n",
      " 'melodic' 'metal' 'metalcore' 'mexican' 'middle' 'minimal'\n",
      " 'miscellaneous' 'modern' 'mood' 'mpb' 'muslim' 'native' 'neoklassik'\n",
      " 'neue' 'new' 'newage' 'newwave' 'nu' 'nujazz' 'numetal' 'oceania' 'old'\n",
      " 'opera' 'orchestral' 'other' 'piano' 'pop' 'popelectronic' 'popeurodance'\n",
      " 'post' 'posthardcore' 'postrock' 'power' 'progmetal' 'progressive'\n",
      " 'psychedelic' 'punjabi' 'punk' 'quebecois' 'ragga' 'ram' 'rancheras'\n",
      " 'rap' 'rave' 'reggae' 'reggaeton' 'regional' 'relax' 'religious' 'retro'\n",
      " 'rhythm' 'rnb' 'rnr' 'rock' 'rockabilly' 'romance' 'roots' 'ruspop'\n",
      " 'rusrap' 'rusrock' 'salsa' 'samba' 'schlager' 'self' 'sertanejo'\n",
      " 'shoegazing' 'showtunes' 'singer' 'ska' 'slow' 'smooth' 'soul' 'soulful'\n",
      " 'sound' 'soundtrack' 'southern' 'specialty' 'speech' 'spiritual' 'sport'\n",
      " 'stonerrock' 'surf' 'swing' 'synthpop' 'sängerportrait' 'tango'\n",
      " 'tanzorchester' 'taraftar' 'tech' 'techno' 'thrash' 'top' 'traditional'\n",
      " 'tradjazz' 'trance' 'tribal' 'trip' 'triphop' 'tropical' 'türk' 'türkçe'\n",
      " 'unknown' 'urban' 'uzbek' 'variété' 'vi' 'videogame' 'vocal' 'western'\n",
      " 'world' 'worldbeat' 'ïîï']\n"
     ]
    }
   ],
   "source": [
    "# Comprobación de duplicados implícitos\n",
    "print(df['genre'].sort_values().unique())\n"
   ]
  },
  {
   "cell_type": "markdown",
   "metadata": {
    "id": "jz6a9-7HQUDd"
   },
   "source": [
    "### Data Preprocessing conclusions <a id='data_preprocessing_conclusions'></a>\n",
    "\n",
    "When analizyng tabular data using DataFrames, is necesary to process duplicated values. In this case the data contained both explicit and implicit duplicated values. In the case of the explicitly duplicated values we processed them using the `drop_duplicates()` method. To get rid of implicitly duplicated values requires a deep analysis of the range of values present in a column, for that purpose the Pandas library implements a method called `unique()` which returns a list that represents the range of unique values in a column.\n",
    "On the other hand there are minor genres that could be merged in major groups. In the previous cells a sugessted code was added, that code go deeper into the problem and presents a solution based on this minor-major groups\n"
   ]
  },
  {
   "cell_type": "markdown",
   "metadata": {
    "id": "eK1es74rVujj"
   },
   "source": [
    "[Volver a Contenidos](#back)"
   ]
  },
  {
   "cell_type": "markdown",
   "metadata": {
    "id": "WttZHXH0SqKk"
   },
   "source": [
    "## Stage 3. Hypothesis <a id='hypothesis'></a>"
   ]
  },
  {
   "cell_type": "markdown",
   "metadata": {
    "id": "nwt_MuaL_Zcu"
   },
   "source": [
    "The hypothesis states that there are differences in how users from Springfield and Shelbyville consume music. To test this, we will use data from three days of the week: Monday, Wednesday, and Friday"
   ]
  },
  {
   "cell_type": "code",
   "execution_count": 23,
   "metadata": {
    "id": "0_Qs96oh_Zcu"
   },
   "outputs": [
    {
     "data": {
      "text/plain": [
       "city\n",
       "Shelbyville    18512\n",
       "Springfield    42741\n",
       "Name: track, dtype: int64"
      ]
     },
     "execution_count": 23,
     "metadata": {},
     "output_type": "execute_result"
    }
   ],
   "source": [
    "df.groupby('city')['track'].count()"
   ]
  },
  {
   "cell_type": "markdown",
   "metadata": {
    "id": "t_Qx-3NewAnK"
   },
   "source": [
    "\n",
    "Springfield's people played more than twice tracks than Shelbyville's"
   ]
  },
  {
   "cell_type": "code",
   "execution_count": 24,
   "metadata": {
    "id": "uZMKjiJz_Zcu"
   },
   "outputs": [
    {
     "data": {
      "text/plain": [
       "day\n",
       "Friday       21840\n",
       "Monday       21354\n",
       "Wednesday    18059\n",
       "Name: track, dtype: int64"
      ]
     },
     "execution_count": 24,
     "metadata": {},
     "output_type": "execute_result"
    }
   ],
   "source": [
    "df.groupby('day')['track'].count()"
   ]
  },
  {
   "cell_type": "markdown",
   "metadata": {
    "id": "cC2tNrlL_Zcu"
   },
   "source": [
    "\n",
    "People played more tracks on Friday"
   ]
  },
  {
   "cell_type": "code",
   "execution_count": 25,
   "metadata": {
    "id": "Nz3GdQB1_Zcu"
   },
   "outputs": [],
   "source": [
    "def number_tracks(day, city):\n",
    "    tracks_by_day = df[df['day']==day]\n",
    "    tracks_filtered = tracks_by_day[tracks_by_day['city']==city]\n",
    "    number_tracks = tracks_filtered['user_id'].count()\n",
    "    return number_tracks\n",
    "\n"
   ]
  },
  {
   "cell_type": "code",
   "execution_count": 26,
   "metadata": {
    "id": "rJcRATNQ_Zcu"
   },
   "outputs": [
    {
     "data": {
      "text/plain": [
       "5614"
      ]
     },
     "execution_count": 26,
     "metadata": {},
     "output_type": "execute_result"
    }
   ],
   "source": [
    "number_tracks('Monday', 'Shelbyville')"
   ]
  },
  {
   "cell_type": "code",
   "execution_count": 27,
   "metadata": {
    "id": "hq_ncZ5T_Zcu"
   },
   "outputs": [
    {
     "data": {
      "text/plain": [
       "15740"
      ]
     },
     "execution_count": 27,
     "metadata": {},
     "output_type": "execute_result"
    }
   ],
   "source": [
    "number_tracks('Monday', 'Springfield')"
   ]
  },
  {
   "cell_type": "code",
   "execution_count": 28,
   "metadata": {
    "id": "_NTy2VPU_Zcu"
   },
   "outputs": [
    {
     "data": {
      "text/plain": [
       "7003"
      ]
     },
     "execution_count": 28,
     "metadata": {},
     "output_type": "execute_result"
    }
   ],
   "source": [
    "number_tracks('Wednesday', 'Shelbyville')"
   ]
  },
  {
   "cell_type": "code",
   "execution_count": 29,
   "metadata": {
    "id": "j2y3TAwo_Zcu"
   },
   "outputs": [
    {
     "data": {
      "text/plain": [
       "11056"
      ]
     },
     "execution_count": 29,
     "metadata": {},
     "output_type": "execute_result"
    }
   ],
   "source": [
    "number_tracks('Wednesday', 'Springfield')"
   ]
  },
  {
   "cell_type": "code",
   "execution_count": 30,
   "metadata": {
    "id": "vYDw5u_K_Zcu"
   },
   "outputs": [
    {
     "data": {
      "text/plain": [
       "5895"
      ]
     },
     "execution_count": 30,
     "metadata": {},
     "output_type": "execute_result"
    }
   ],
   "source": [
    "number_tracks('Friday', 'Shelbyville')"
   ]
  },
  {
   "cell_type": "code",
   "execution_count": 31,
   "metadata": {
    "id": "8_yzFtW3_Zcu"
   },
   "outputs": [
    {
     "data": {
      "text/plain": [
       "15945"
      ]
     },
     "execution_count": 31,
     "metadata": {},
     "output_type": "execute_result"
    }
   ],
   "source": [
    "number_tracks('Friday', 'Springfield')"
   ]
  },
  {
   "cell_type": "markdown",
   "metadata": {
    "id": "-EgPIHYu_Zcu"
   },
   "source": [
    "**Conclusions**\n",
    "1. User activity varies by day of the week and city\n",
    "\n",
    "Based on the results the Hipotesys is valid since we found different values of played songs for each city in every single day. We also didn't find a trend or pattern in the data\n",
    "We can notice that Springfield users are more active in the App. Overall they played more tracks than Shelbyville users, not only this, they also played more tracks every single day than Shelbyville users. The following table summarize the total number of tracks played in the given days:\n",
    "    <table>\n",
    "    <thead>\n",
    "        <th>City</th>\n",
    "        <th>Monday</th>\n",
    "        <th>Wednesday</th>\n",
    "        <th>Friday</th>\n",
    "    </thead>\n",
    "    <tbody>\n",
    "        <tr>\n",
    "            <td>Springfield</td>\n",
    "            <td>15740</td>\n",
    "            <td>11056</td>\n",
    "            <td>15945</td>\n",
    "        </tr>\n",
    "        <tr>\n",
    "            <td>Shelbyville</td>\n",
    "            <td>5614</td>\n",
    "            <td>7003</td>\n",
    "            <td>5895</td>\n",
    "        </tr>\n",
    "    </tbody>\n",
    "    </table>\n",
    "    \n",
    "We can finally conclude, there is no a pattern in the data, but Springfield is the city with more active users"
   ]
  },
  {
   "cell_type": "markdown",
   "metadata": {
    "id": "tjUwbHb3_Zcv"
   },
   "source": [
    "\n",
    "The given hipotesys was validated using data analysis, the pre processing of data is a crucial part in the analysis and can affect seriously the final results of the analysis. As part of the study we found that the day with more played songs was Friday and we can use this information to adjust the servers for the increasing demand on fridays."
   ]
  }
 ],
 "metadata": {
  "colab": {
   "collapsed_sections": [
    "E0vqbgi9ay0H",
    "VUC88oWjTJw2"
   ],
   "provenance": []
  },
  "kernelspec": {
   "display_name": "python_3_10",
   "language": "python",
   "name": "python3"
  },
  "language_info": {
   "codemirror_mode": {
    "name": "ipython",
    "version": 3
   },
   "file_extension": ".py",
   "mimetype": "text/x-python",
   "name": "python",
   "nbconvert_exporter": "python",
   "pygments_lexer": "ipython3",
   "version": "3.10.15"
  },
  "toc": {
   "base_numbering": 1,
   "nav_menu": {},
   "number_sections": true,
   "sideBar": true,
   "skip_h1_title": true,
   "title_cell": "Table of Contents",
   "title_sidebar": "Contents",
   "toc_cell": false,
   "toc_position": {
    "height": "calc(100% - 180px)",
    "left": "10px",
    "top": "150px",
    "width": "215.757px"
   },
   "toc_section_display": true,
   "toc_window_display": false
  }
 },
 "nbformat": 4,
 "nbformat_minor": 1
}
